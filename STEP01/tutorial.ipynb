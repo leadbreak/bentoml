{
 "cells": [
  {
   "cell_type": "code",
   "execution_count": 2,
   "metadata": {},
   "outputs": [
    {
     "name": "stderr",
     "output_type": "stream",
     "text": [
      "'export'��(��) ���� �Ǵ� �ܺ� ����, ������ �� �ִ� ���α׷�, �Ǵ�\n",
      "��ġ ������ �ƴմϴ�.\n"
     ]
    }
   ],
   "source": [
    "# Linux 등의 경우\n",
    "!export BENTOML_HOME='C:\\Users\\dqkim\\Documents\\in2wise\\bentoml'"
   ]
  },
  {
   "cell_type": "code",
   "execution_count": 4,
   "metadata": {},
   "outputs": [
    {
     "name": "stdout",
     "output_type": "stream",
     "text": [
      "\n",
      "����: ������ ���� �����߽��ϴ�.\n"
     ]
    }
   ],
   "source": [
    "# Window의 경우\n",
    "!setx BENTOML_HOME 'C:\\Users\\dqkim\\Documents\\in2wise\\bentoml'"
   ]
  },
  {
   "cell_type": "markdown",
   "metadata": {},
   "source": [
    "# 1. Model Training"
   ]
  },
  {
   "cell_type": "code",
   "execution_count": 5,
   "metadata": {},
   "outputs": [
    {
     "data": {
      "text/plain": [
       "SVC()"
      ]
     },
     "execution_count": 5,
     "metadata": {},
     "output_type": "execute_result"
    }
   ],
   "source": [
    "from sklearn import svm, datasets\n",
    "\n",
    "# Load training data\n",
    "iris = datasets.load_iris()\n",
    "X, y = iris.data, iris.target\n",
    "\n",
    "# Model Training\n",
    "clf = svm.SVC()\n",
    "clf.fit(X, y)"
   ]
  },
  {
   "cell_type": "code",
   "execution_count": 6,
   "metadata": {},
   "outputs": [
    {
     "data": {
      "text/plain": [
       "Model(tag=\"iris_clf:uxekb6pttkm46yhd\", path=\"C:\\Users\\dqkim\\bentoml\\models\\iris_clf\\uxekb6pttkm46yhd\\\")"
      ]
     },
     "execution_count": 6,
     "metadata": {},
     "output_type": "execute_result"
    }
   ],
   "source": [
    "import bentoml\n",
    "bentoml.sklearn.save_model(\"iris_clf\", clf)"
   ]
  },
  {
   "cell_type": "code",
   "execution_count": 7,
   "metadata": {},
   "outputs": [
    {
     "name": "stdout",
     "output_type": "stream",
     "text": [
      " Tag                        Module           Size      Creation Time       \n",
      " iris_clf:uxekb6pttkm46yhd  bentoml.sklearn  5.62 KiB  2022-06-24 17:50:07 \n",
      " iris_clf:rawzrvpttg3fmyhd  bentoml.sklearn  5.62 KiB  2022-06-24 17:42:08 \n",
      " iris_clf:ntdxd6pttgsvwyhd  bentoml.sklearn  5.62 KiB  2022-06-24 17:41:22 \n",
      " iris_clf:nbn45dhttgzpiyhd  bentoml.sklearn  5.62 KiB  2022-06-24 17:41:14 \n",
      " iris_clf:zsb53h7ttcgxayhd  bentoml.sklearn  5.62 KiB  2022-06-24 17:36:53 \n",
      " iris_clf:s2j5mrhttcljkyhd  bentoml.sklearn  5.62 KiB  2022-06-24 17:35:22 \n"
     ]
    }
   ],
   "source": [
    "# Model List 확인\n",
    "!bentoml models list"
   ]
  },
  {
   "cell_type": "code",
   "execution_count": 10,
   "metadata": {},
   "outputs": [
    {
     "name": "stdout",
     "output_type": "stream",
     "text": [
      "name: iris_clf                                                                 \n",
      "version: rawzrvpttg3fmyhd                                                      \n",
      "module: bentoml.sklearn                                                        \n",
      "labels: {}                                                                     \n",
      "options: {}                                                                    \n",
      "metadata: {}                                                                   \n",
      "context:                                                                       \n",
      "  framework_name: sklearn                                                      \n",
      "  framework_versions:                                                          \n",
      "    scikit-learn: 1.0.2                                                        \n",
      "  bentoml_version: 1.0.0rc2                                                    \n",
      "  python_version: 3.9.10                                                       \n",
      "signatures:                                                                    \n",
      "  predict:                                                                     \n",
      "    batchable: false                                                           \n",
      "api_version: v1                                                                \n",
      "creation_time: '2022-06-24T08:42:08.188924+00:00'                              \n",
      "                                                                               \n"
     ]
    }
   ],
   "source": [
    "# 특정 버전 모델 가져오기\n",
    "!bentoml models get iris_clf:rawzrvpttg3fmyhd"
   ]
  },
  {
   "cell_type": "code",
   "execution_count": 8,
   "metadata": {},
   "outputs": [
    {
     "name": "stdout",
     "output_type": "stream",
     "text": [
      "name: iris_clf                                                                 \n",
      "version: uxekb6pttkm46yhd                                                      \n",
      "module: bentoml.sklearn                                                        \n",
      "labels: {}                                                                     \n",
      "options: {}                                                                    \n",
      "metadata: {}                                                                   \n",
      "context:                                                                       \n",
      "  framework_name: sklearn                                                      \n",
      "  framework_versions:                                                          \n",
      "    scikit-learn: 1.0.2                                                        \n",
      "  bentoml_version: 1.0.0rc2                                                    \n",
      "  python_version: 3.9.10                                                       \n",
      "signatures:                                                                    \n",
      "  predict:                                                                     \n",
      "    batchable: false                                                           \n",
      "api_version: v1                                                                \n",
      "creation_time: '2022-06-24T08:50:07.355485+00:00'                              \n",
      "                                                                               \n"
     ]
    }
   ],
   "source": [
    "# 가장 최신 버전 가져오기\n",
    "!bentoml models get iris_clf:latest"
   ]
  },
  {
   "cell_type": "markdown",
   "metadata": {},
   "source": [
    "# 2. Model Serving - Runner"
   ]
  },
  {
   "cell_type": "code",
   "execution_count": 16,
   "metadata": {},
   "outputs": [
    {
     "name": "stderr",
     "output_type": "stream",
     "text": [
      "'Runner.init_local' is for debugging and testing only\n",
      "'Runner.init_local' is for debugging and testing only\n"
     ]
    }
   ],
   "source": [
    "import bentoml\n",
    "\n",
    "model1 = bentoml.sklearn.get('iris_clf:latest').to_runner()\n",
    "model2 = bentoml.sklearn.get('iris_clf:rawzrvpttg3fmyhd').to_runner()\n",
    "\n",
    "model1.init_local()\n",
    "model2.init_local()"
   ]
  },
  {
   "cell_type": "code",
   "execution_count": 17,
   "metadata": {},
   "outputs": [
    {
     "name": "stdout",
     "output_type": "stream",
     "text": [
      "Model1 Predict : [2]\n",
      "Model2 Predict : [2]\n"
     ]
    }
   ],
   "source": [
    "print(f\"Model1 Predict : {model1.predict.run([[5.9, 3, 5.1, 1.8]])}\")\n",
    "print(f\"Model2 Predict : {model2.predict.run([[5.9, 3, 5.1, 1.8]])}\")"
   ]
  },
  {
   "cell_type": "markdown",
   "metadata": {},
   "source": [
    "# 3. Model Serving - Service"
   ]
  },
  {
   "cell_type": "code",
   "execution_count": 18,
   "metadata": {},
   "outputs": [
    {
     "name": "stdout",
     "output_type": "stream",
     "text": [
      "Writing service.py\n"
     ]
    }
   ],
   "source": [
    "%%writefile service.py\n",
    "\n",
    "import numpy as np\n",
    "import bentoml\n",
    "from bentoml.io import NumpyNdarray\n",
    "\n",
    "iris_clf_runner = bentoml.sklearn.get(\"iris_clf:latest\").to_runner()\n",
    "\n",
    "svc = bentoml.Service(\"iris_classifier\", runners=[iris_clf_runner])\n",
    "\n",
    "@svc.api(input=NumpyNdarray(), output=NumpyNdarray())\n",
    "def classify(input_series: np.ndarray) -> np.ndarray:\n",
    "    return iris_clf_runner.predict.run(input_series)\n"
   ]
  },
  {
   "cell_type": "code",
   "execution_count": null,
   "metadata": {},
   "outputs": [],
   "source": [
    "'''\n",
    "BentoML 서비스 실행 - 별도의 cli나 ipynb 파일 등에서 실행\n",
    "\n",
    "bentoml serve service.py:svc --reload\n",
    "'''"
   ]
  }
 ],
 "metadata": {
  "kernelspec": {
   "display_name": "Python 3.9.10 64-bit",
   "language": "python",
   "name": "python3"
  },
  "language_info": {
   "codemirror_mode": {
    "name": "ipython",
    "version": 3
   },
   "file_extension": ".py",
   "mimetype": "text/x-python",
   "name": "python",
   "nbconvert_exporter": "python",
   "pygments_lexer": "ipython3",
   "version": "3.9.10"
  },
  "orig_nbformat": 4,
  "vscode": {
   "interpreter": {
    "hash": "81794d4967e6c3204c66dcd87b604927b115b27c00565d3d43f05ba2f3a2cb0d"
   }
  }
 },
 "nbformat": 4,
 "nbformat_minor": 2
}
